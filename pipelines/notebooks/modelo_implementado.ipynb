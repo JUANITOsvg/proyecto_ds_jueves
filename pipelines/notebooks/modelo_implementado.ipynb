{
  "nbformat": 4,
  "nbformat_minor": 0,
  "metadata": {
    "colab": {
      "provenance": [],
      "authorship_tag": "ABX9TyOrzEmNrVsv6BxBuxeMnS1a",
      "include_colab_link": true
    },
    "kernelspec": {
      "name": "python3",
      "display_name": "Python 3"
    },
    "language_info": {
      "name": "python"
    }
  },
  "cells": [
    {
      "cell_type": "markdown",
      "metadata": {
        "id": "view-in-github",
        "colab_type": "text"
      },
      "source": [
        "<a href=\"https://colab.research.google.com/github/JUANITOsvg/proyecto_ds_jueves/blob/main/pipelines/notebooks/modelo_implementado.ipynb\" target=\"_parent\"><img src=\"https://colab.research.google.com/assets/colab-badge.svg\" alt=\"Open In Colab\"/></a>"
      ]
    },
    {
      "cell_type": "code",
      "execution_count": null,
      "metadata": {
        "id": "V6vnnzzUZteT"
      },
      "outputs": [],
      "source": [
        "# Probando cambios"
      ]
    }
  ]
}